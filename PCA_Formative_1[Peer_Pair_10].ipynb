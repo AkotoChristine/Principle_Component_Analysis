{
 "cells": [
  {
   "cell_type": "markdown",
   "metadata": {},
   "source": [
    "# Formative Assignment: Advanced Linear Algebra (PCA)\n",
    "This notebook will guide you through the implementation of Principal Component Analysis (PCA). Fill in the missing code and provide the required answers in the appropriate sections. You will work with the `fuel_econ.csv` dataset.\n",
    "\n",
    "Make sure to display outputs for each code cell when submitting."
   ]
  },
  {
   "cell_type": "markdown",
   "metadata": {},
   "source": [
    "### Step 1: Load and Standardize the Data\n",
    "Before applying PCA, we must standardize the dataset. Standardization ensures that all features have a mean of 0 and a standard deviation of 1, which is essential for PCA.\n",
    "Fill in the code to standardize the dataset."
   ]
  },
  {
   "cell_type": "code",
   "execution_count": 14,
   "metadata": {},
   "outputs": [
    {
     "name": "stdout",
     "output_type": "stream",
     "text": [
      "            id      year  cylinders     displ       pv2       pv4      city  \\\n",
      "0    -1.737140 -1.475835   0.283102  0.650536  1.467096 -1.217378 -0.859960   \n",
      "1    -1.736684 -1.475835  -0.781816 -0.727998  1.864762 -1.217378  0.006427   \n",
      "2    -1.736227 -1.475835   0.283102  0.497365  1.864762 -1.217378 -0.694416   \n",
      "3    -1.735770 -1.475835   0.283102  0.497365  1.864762 -1.217378 -0.782800   \n",
      "4    -1.735313 -1.475835  -0.781816 -0.421657 -0.627278  0.734890  0.471083   \n",
      "...        ...       ...        ...       ...       ...       ...       ...   \n",
      "3924  1.770283  1.474784  -0.781816 -0.881169 -0.627278 -1.217378  5.346290   \n",
      "3925  1.777592  1.474784  -0.781816 -0.727998 -0.627278  0.960942  2.749115   \n",
      "3926  1.778049  1.474784  -0.781816 -0.727998 -0.627278  0.960942  2.909231   \n",
      "3927  1.778506  1.474784   0.283102  0.344195  1.997318 -1.217378 -0.417976   \n",
      "3928  1.778962  1.474784   0.283102  0.344195  1.997318 -1.217378 -0.606417   \n",
      "\n",
      "         UCity   highway  UHighway      comb       co2   feScore  ghgScore  \n",
      "0    -0.852430 -1.290630 -1.392475 -1.008323  1.022838 -0.950580 -0.945755  \n",
      "1    -0.117434  0.184947 -0.039200  0.071864 -0.298550  0.188608  0.194258  \n",
      "2    -0.753245 -0.592020 -0.851750 -0.686339  0.567934 -0.380986 -0.375749  \n",
      "3    -0.830286 -0.827384 -1.027588 -0.818651  0.752062 -0.380986 -0.375749  \n",
      "4     0.433147  0.967516  0.992531  0.648059 -0.720961  1.327796  1.334271  \n",
      "...        ...       ...       ...       ...       ...       ...       ...  \n",
      "3924  5.588320  4.006752  3.385131  4.938218 -3.233765  2.466984  2.474284  \n",
      "3925  3.065801  2.494025  2.324331  2.700327 -1.728249  1.897390  1.904278  \n",
      "3926  3.076807  2.788691  2.324331  2.866924 -1.782404  1.897390  1.904278  \n",
      "3927 -0.423068  0.054370  0.060412 -0.298083  0.113030 -0.380986 -0.375749  \n",
      "3928 -0.599162 -0.517474 -0.390174 -0.565906  0.437962 -0.950580 -0.945755  \n",
      "\n",
      "[3929 rows x 14 columns]\n",
      " City Mean: 0.0000000000\n"
     ]
    }
   ],
   "source": [
    "import pandas as pd \n",
    "import numpy as np\n",
    "\n",
    "data = pd.read_csv('fuel_econ.csv')\n",
    "\n",
    "numerical_data = data.select_dtypes(include=['float64', 'int64'])\n",
    "\n",
    "#calculating the mean and standard deviation\n",
    "mean = np.mean(numerical_data, axis=0) \n",
    "std_dev = np.std(numerical_data, axis=0)  \n",
    "\n",
    "# Do not use sklearn (Data - Data Mean)/ Data's Standard Deviation\n",
    "\n",
    "standardized_data = (numerical_data - mean) / std_dev \n",
    "print(standardized_data)\n",
    "\n",
    "#testing the code if they mean of a column is actually 0\n",
    "test = np.mean(standardized_data['city'])\n",
    "print(f' City Mean: {test:.10f}' )"
   ]
  },
  {
   "cell_type": "markdown",
   "metadata": {},
   "source": [
    "### Step 3: Calculate the Covariance Matrix\n",
    "The covariance matrix helps us understand how the features are related to each other. It is a key component in PCA."
   ]
  },
  {
   "cell_type": "code",
   "execution_count": 15,
   "metadata": {},
   "outputs": [
    {
     "name": "stdout",
     "output_type": "stream",
     "text": [
      "[[ 1.00025458  0.98591866 -0.06011148 -0.07468488 -0.00657025 -0.02195656\n",
      "   0.09182316  0.09124849  0.0906161   0.09538375  0.09382686 -0.09974229\n",
      "  -0.1279056  -0.12235207]\n",
      " [ 0.98591866  1.00025458 -0.05532701 -0.07044161  0.00623397 -0.03365174\n",
      "   0.06806739  0.06675938  0.07330836  0.07766039  0.07201181 -0.0811853\n",
      "  -0.1498676  -0.14517775]\n",
      " [-0.06011148 -0.05532701  1.00025458  0.93411019  0.24763384 -0.00426546\n",
      "  -0.69327904 -0.66619842 -0.76646982 -0.77169964 -0.73821112  0.84848979\n",
      "  -0.78405759 -0.78201448]\n",
      " [-0.07468488 -0.07044161  0.93411019  1.00025458  0.2594021   0.02207729\n",
      "  -0.71366074 -0.6863403  -0.78418374 -0.78865771 -0.75859024  0.85559254\n",
      "  -0.7936343  -0.79141752]\n",
      " [-0.00657025  0.00623397  0.24763384  0.2594021   1.00025458 -0.66581137\n",
      "  -0.27817962 -0.27261515 -0.29688365 -0.29858023 -0.29095711  0.28727323\n",
      "  -0.2961638  -0.29323103]\n",
      " [-0.02195656 -0.03365174 -0.00426546  0.02207729 -0.66581137  1.00025458\n",
      "   0.03519659  0.03787859  0.07497068  0.07746161  0.04734493 -0.05016567\n",
      "   0.06489226  0.06527952]\n",
      " [ 0.09182316  0.06806739 -0.69327904 -0.71366074 -0.27817962  0.03519659\n",
      "   1.00025458  0.99663082  0.9156677   0.90989004  0.98980432 -0.90453509\n",
      "   0.9059112   0.89902154]\n",
      " [ 0.09124849  0.06675938 -0.66619842 -0.6863403  -0.27261515  0.03787859\n",
      "   0.99663082  1.00025458  0.89978578  0.89804238  0.98135571 -0.8860481\n",
      "   0.89152389  0.88468357]\n",
      " [ 0.0906161   0.07330836 -0.76646982 -0.78418374 -0.29688365  0.07497068\n",
      "   0.9156677   0.89978578  1.00025458  0.99244327  0.9630022  -0.91668944\n",
      "   0.91434884  0.89781322]\n",
      " [ 0.09538375  0.07766039 -0.77169964 -0.78865771 -0.29858023  0.07746161\n",
      "   0.90989004  0.89804238  0.99244327  1.00025458  0.95682339 -0.91234956\n",
      "   0.91158665  0.89454192]\n",
      " [ 0.09382686  0.07201181 -0.73821112 -0.75859024 -0.29095711  0.04734493\n",
      "   0.98980432  0.98135571  0.9630022   0.95682339  1.00025458 -0.92963549\n",
      "   0.92909879  0.91904062]\n",
      " [-0.09974229 -0.0811853   0.84848979  0.85559254  0.28727323 -0.05016567\n",
      "  -0.90453509 -0.8860481  -0.91668944 -0.91234956 -0.92963549  1.00025458\n",
      "  -0.94086368 -0.94480617]\n",
      " [-0.1279056  -0.1498676  -0.78405759 -0.7936343  -0.2961638   0.06489226\n",
      "   0.9059112   0.89152389  0.91434884  0.91158665  0.92909879 -0.94086368\n",
      "   1.00025458  0.99448412]\n",
      " [-0.12235207 -0.14517775 -0.78201448 -0.79141752 -0.29323103  0.06527952\n",
      "   0.89902154  0.88468357  0.89781322  0.89454192  0.91904062 -0.94480617\n",
      "   0.99448412  1.00025458]]\n"
     ]
    }
   ],
   "source": [
    "# Step 3: Calculate the Covariance Matrix\n",
    "cov_matrix =  np.cov(standardized_data, rowvar=False)   # Calculate covariance matrix\n",
    "print(cov_matrix)"
   ]
  },
  {
   "cell_type": "markdown",
   "metadata": {},
   "source": [
    "### Step 4: Perform Eigendecomposition\n",
    "Eigendecomposition of the covariance matrix will give us the eigenvalues and eigenvectors, which are essential for PCA.\n",
    "Fill in the code to compute the eigenvalues and eigenvectors of the covariance matrix."
   ]
  },
  {
   "cell_type": "code",
   "execution_count": 16,
   "metadata": {},
   "outputs": [
    {
     "name": "stdout",
     "output_type": "stream",
     "text": [
      "[8.95720924e+00 2.06777956e+00 1.59364217e+00 6.70587666e-01\n",
      " 3.01684118e-01 1.61017548e-01 1.25550471e-01 6.40205207e-02\n",
      " 3.23528963e-02 1.36962433e-02 9.24627112e-03 4.24637785e-03\n",
      " 2.14358185e-03 3.87485886e-04]\n",
      "[[ 1.89952516e-02 -6.87675276e-01  7.65365183e-02  1.83729680e-02\n",
      "  -1.42115022e-02  7.02789695e-02  1.14861126e-01  4.01097554e-03\n",
      "  -1.15143583e-01 -6.95538857e-01 -6.83326435e-02  2.10633586e-02\n",
      "  -7.10578367e-03  6.07618642e-04]\n",
      " [ 1.24694065e-02 -6.89503292e-01  6.88439505e-02 -9.43831862e-03\n",
      "  -1.35600088e-02  3.37955333e-02  8.53170135e-02 -7.51768613e-03\n",
      "  -5.48830131e-02  7.10425085e-01  5.58369479e-02 -9.48384475e-03\n",
      "  -3.26885432e-04 -3.98397374e-03]\n",
      " [-2.81632694e-01  1.98550575e-02  5.61398643e-02  6.00933196e-01\n",
      "   9.71151716e-02 -7.09369930e-02  2.53817629e-01 -6.79764243e-01\n",
      "   1.19688616e-01  2.20121563e-03  1.99493288e-02  1.60174402e-02\n",
      "   8.04028190e-03 -8.90395340e-04]\n",
      " [-2.86142593e-01  3.10582044e-02  6.39803619e-02  5.69008152e-01\n",
      "  -1.12579685e-02  5.20085469e-04  2.41804525e-01  7.26076226e-01\n",
      "   5.26897639e-02  1.88707728e-02  2.64926668e-03  2.74345123e-03\n",
      "   1.81240405e-02  5.96415755e-03]\n",
      " [-1.13744496e-01 -6.35462585e-02 -6.68453743e-01  1.11921299e-01\n",
      "  -7.14324777e-01  5.74549175e-02 -8.32812952e-02 -5.31588314e-02\n",
      "  -1.69233476e-02 -1.20771098e-03 -5.08741222e-03  2.49515657e-03\n",
      "   4.77699628e-03  1.38002408e-03]\n",
      " [ 2.70758334e-02  8.29599394e-02  7.27541248e-01  4.21668361e-02\n",
      "  -6.60327363e-01  8.80109065e-02 -1.15893864e-01 -6.09407894e-02\n",
      "  -1.50666539e-02  6.07275003e-03 -7.58040546e-03  3.43747016e-03\n",
      "   5.48765707e-03  1.91014202e-03]\n",
      " [ 3.18051748e-01 -2.85135436e-02 -3.09457159e-02  3.07741602e-01\n",
      "   9.17288395e-02  2.33582113e-01 -3.48523745e-01 -1.55857376e-03\n",
      "   4.42386886e-03  1.69645875e-02 -1.66951941e-01  2.83920592e-02\n",
      "   4.69767835e-01 -6.06838753e-01]\n",
      " [ 3.13255816e-01 -2.82923311e-02 -2.88424193e-02  3.50190560e-01\n",
      "   9.64490942e-02  2.61685754e-01 -4.01063566e-01  5.82474590e-03\n",
      "  -5.01782609e-02 -1.87450161e-02  3.40247326e-01 -3.70704540e-02\n",
      "  -6.39659984e-01  9.87960517e-02]\n",
      " [ 3.22311434e-01 -2.87446531e-02 -7.41844009e-03  1.06756217e-01\n",
      "  -8.36095900e-02 -5.79051855e-01  6.98415760e-02  2.77125052e-02\n",
      "   9.29454003e-02  3.47168354e-02 -5.54437663e-01 -8.10568303e-02\n",
      "  -4.06961918e-01 -2.15560379e-01]\n",
      " [ 3.21798899e-01 -3.18825751e-02 -5.04723357e-03  9.25701948e-02\n",
      "  -8.81244175e-02 -5.98740052e-01  5.43149286e-02  3.27585244e-02\n",
      "  -3.73565517e-02 -6.93222596e-02  6.60371426e-01 -1.66112419e-02\n",
      "   2.69949131e-01 -3.33988596e-02]\n",
      " [ 3.26431467e-01 -2.95439904e-02 -2.46646202e-02  2.32059576e-01\n",
      "   3.57371029e-02 -3.52013759e-02 -1.98176493e-01  3.36046564e-04\n",
      "   2.43702958e-02  2.76273040e-02 -3.06928130e-01 -1.61455289e-03\n",
      "   3.55719959e-01  7.57771730e-01]\n",
      " [-3.24688616e-01  3.09636927e-02  2.93518765e-02  8.18837257e-02\n",
      "   7.40173982e-02 -2.55009838e-01 -3.27527105e-01 -2.56968080e-02\n",
      "  -8.31166274e-01  2.88398819e-02 -9.59897926e-02 -8.09763007e-02\n",
      "   1.25678109e-02 -3.29955487e-03]\n",
      " [ 3.21900973e-01  1.31945566e-01 -3.65682913e-02  4.07422491e-02\n",
      "  -4.52335010e-02  1.50377117e-01  4.11647519e-01 -1.91175338e-02\n",
      "  -3.95194409e-01  5.05543624e-02 -3.41858876e-02  7.19798863e-01\n",
      "  -5.88483770e-02 -4.22856834e-03]\n",
      " [ 3.19831952e-01  1.29271611e-01 -3.65195901e-02  2.92741212e-02\n",
      "  -4.98906660e-02  2.68563294e-01  4.79705745e-01 -3.49036362e-02\n",
      "  -3.25473709e-01  1.79402067e-02 -2.05372106e-03 -6.82266534e-01\n",
      "   3.17540349e-02 -9.96924525e-03]]\n"
     ]
    }
   ],
   "source": [
    "# Step 4: Perform Eigendecomposition\n",
    "eigenvalues, eigenvectors = np.linalg.eig(cov_matrix)\n",
    "print(eigenvalues)\n",
    "\n",
    "\n",
    "print(eigenvectors)"
   ]
  },
  {
   "cell_type": "markdown",
   "metadata": {},
   "source": [
    "### Step 5: Sort Principal Components\n",
    "Sort the eigenvectors based on their corresponding eigenvalues in descending order. The higher the eigenvalue, the more important the eigenvector.\n",
    "Complete the code to sort the eigenvectors and print the sorted components."
   ]
  },
  {
   "cell_type": "code",
   "execution_count": 17,
   "metadata": {},
   "outputs": [
    {
     "data": {
      "text/plain": [
       "array([[ 1.89952516e-02, -6.87675276e-01,  7.65365183e-02,\n",
       "         1.83729680e-02, -1.42115022e-02,  7.02789695e-02,\n",
       "         1.14861126e-01,  4.01097554e-03, -1.15143583e-01,\n",
       "        -6.95538857e-01, -6.83326435e-02,  2.10633586e-02,\n",
       "        -7.10578367e-03,  6.07618642e-04],\n",
       "       [ 1.24694065e-02, -6.89503292e-01,  6.88439505e-02,\n",
       "        -9.43831862e-03, -1.35600088e-02,  3.37955333e-02,\n",
       "         8.53170135e-02, -7.51768613e-03, -5.48830131e-02,\n",
       "         7.10425085e-01,  5.58369479e-02, -9.48384475e-03,\n",
       "        -3.26885432e-04, -3.98397374e-03],\n",
       "       [-2.81632694e-01,  1.98550575e-02,  5.61398643e-02,\n",
       "         6.00933196e-01,  9.71151716e-02, -7.09369930e-02,\n",
       "         2.53817629e-01, -6.79764243e-01,  1.19688616e-01,\n",
       "         2.20121563e-03,  1.99493288e-02,  1.60174402e-02,\n",
       "         8.04028190e-03, -8.90395340e-04],\n",
       "       [-2.86142593e-01,  3.10582044e-02,  6.39803619e-02,\n",
       "         5.69008152e-01, -1.12579685e-02,  5.20085469e-04,\n",
       "         2.41804525e-01,  7.26076226e-01,  5.26897639e-02,\n",
       "         1.88707728e-02,  2.64926668e-03,  2.74345123e-03,\n",
       "         1.81240405e-02,  5.96415755e-03],\n",
       "       [-1.13744496e-01, -6.35462585e-02, -6.68453743e-01,\n",
       "         1.11921299e-01, -7.14324777e-01,  5.74549175e-02,\n",
       "        -8.32812952e-02, -5.31588314e-02, -1.69233476e-02,\n",
       "        -1.20771098e-03, -5.08741222e-03,  2.49515657e-03,\n",
       "         4.77699628e-03,  1.38002408e-03],\n",
       "       [ 2.70758334e-02,  8.29599394e-02,  7.27541248e-01,\n",
       "         4.21668361e-02, -6.60327363e-01,  8.80109065e-02,\n",
       "        -1.15893864e-01, -6.09407894e-02, -1.50666539e-02,\n",
       "         6.07275003e-03, -7.58040546e-03,  3.43747016e-03,\n",
       "         5.48765707e-03,  1.91014202e-03],\n",
       "       [ 3.18051748e-01, -2.85135436e-02, -3.09457159e-02,\n",
       "         3.07741602e-01,  9.17288395e-02,  2.33582113e-01,\n",
       "        -3.48523745e-01, -1.55857376e-03,  4.42386886e-03,\n",
       "         1.69645875e-02, -1.66951941e-01,  2.83920592e-02,\n",
       "         4.69767835e-01, -6.06838753e-01],\n",
       "       [ 3.13255816e-01, -2.82923311e-02, -2.88424193e-02,\n",
       "         3.50190560e-01,  9.64490942e-02,  2.61685754e-01,\n",
       "        -4.01063566e-01,  5.82474590e-03, -5.01782609e-02,\n",
       "        -1.87450161e-02,  3.40247326e-01, -3.70704540e-02,\n",
       "        -6.39659984e-01,  9.87960517e-02],\n",
       "       [ 3.22311434e-01, -2.87446531e-02, -7.41844009e-03,\n",
       "         1.06756217e-01, -8.36095900e-02, -5.79051855e-01,\n",
       "         6.98415760e-02,  2.77125052e-02,  9.29454003e-02,\n",
       "         3.47168354e-02, -5.54437663e-01, -8.10568303e-02,\n",
       "        -4.06961918e-01, -2.15560379e-01],\n",
       "       [ 3.21798899e-01, -3.18825751e-02, -5.04723357e-03,\n",
       "         9.25701948e-02, -8.81244175e-02, -5.98740052e-01,\n",
       "         5.43149286e-02,  3.27585244e-02, -3.73565517e-02,\n",
       "        -6.93222596e-02,  6.60371426e-01, -1.66112419e-02,\n",
       "         2.69949131e-01, -3.33988596e-02],\n",
       "       [ 3.26431467e-01, -2.95439904e-02, -2.46646202e-02,\n",
       "         2.32059576e-01,  3.57371029e-02, -3.52013759e-02,\n",
       "        -1.98176493e-01,  3.36046564e-04,  2.43702958e-02,\n",
       "         2.76273040e-02, -3.06928130e-01, -1.61455289e-03,\n",
       "         3.55719959e-01,  7.57771730e-01],\n",
       "       [-3.24688616e-01,  3.09636927e-02,  2.93518765e-02,\n",
       "         8.18837257e-02,  7.40173982e-02, -2.55009838e-01,\n",
       "        -3.27527105e-01, -2.56968080e-02, -8.31166274e-01,\n",
       "         2.88398819e-02, -9.59897926e-02, -8.09763007e-02,\n",
       "         1.25678109e-02, -3.29955487e-03],\n",
       "       [ 3.21900973e-01,  1.31945566e-01, -3.65682913e-02,\n",
       "         4.07422491e-02, -4.52335010e-02,  1.50377117e-01,\n",
       "         4.11647519e-01, -1.91175338e-02, -3.95194409e-01,\n",
       "         5.05543624e-02, -3.41858876e-02,  7.19798863e-01,\n",
       "        -5.88483770e-02, -4.22856834e-03],\n",
       "       [ 3.19831952e-01,  1.29271611e-01, -3.65195901e-02,\n",
       "         2.92741212e-02, -4.98906660e-02,  2.68563294e-01,\n",
       "         4.79705745e-01, -3.49036362e-02, -3.25473709e-01,\n",
       "         1.79402067e-02, -2.05372106e-03, -6.82266534e-01,\n",
       "         3.17540349e-02, -9.96924525e-03]])"
      ]
     },
     "execution_count": 17,
     "metadata": {},
     "output_type": "execute_result"
    }
   ],
   "source": [
    "# Step 5: Sort Principal Components\n",
    "sorted_indices = np.argsort(eigenvalues)[::-1]  # Get indices of sorted eigenvalues\n",
    "\n",
    "# Sort eigenvectors accordingly\n",
    "sorted_eigenvectors = eigenvectors[:, sorted_indices]\n",
    "\n",
    "sorted_eigenvectors"
   ]
  },
  {
   "cell_type": "markdown",
   "metadata": {},
   "source": [
    "### Step 6: Project Data onto Principal Components\n",
    "Now that we’ve selected the number of components, we will project the original data onto the chosen principal components.\n",
    "Fill in the code to perform the projection."
   ]
  },
  {
   "cell_type": "code",
   "execution_count": null,
   "metadata": {},
   "outputs": [],
   "source": []
  },
  {
   "cell_type": "markdown",
   "metadata": {},
   "source": [
    "### Step 7: Output the Reduced Data\n",
    "Finally, display the reduced data obtained by projecting the original dataset onto the selected principal components."
   ]
  },
  {
   "cell_type": "code",
   "execution_count": 18,
   "metadata": {},
   "outputs": [
    {
     "name": "stdout",
     "output_type": "stream",
     "text": [
      "Reduced Data Shape: (3929, 2)\n"
     ]
    },
    {
     "data": {
      "text/html": [
       "<div>\n",
       "<style scoped>\n",
       "    .dataframe tbody tr th:only-of-type {\n",
       "        vertical-align: middle;\n",
       "    }\n",
       "\n",
       "    .dataframe tbody tr th {\n",
       "        vertical-align: top;\n",
       "    }\n",
       "\n",
       "    .dataframe thead th {\n",
       "        text-align: right;\n",
       "    }\n",
       "</style>\n",
       "<table border=\"1\" class=\"dataframe\">\n",
       "  <thead>\n",
       "    <tr style=\"text-align: right;\">\n",
       "      <th></th>\n",
       "      <th>0</th>\n",
       "      <th>1</th>\n",
       "    </tr>\n",
       "  </thead>\n",
       "  <tbody>\n",
       "    <tr>\n",
       "      <th>0</th>\n",
       "      <td>-3.191462</td>\n",
       "      <td>1.987694</td>\n",
       "    </tr>\n",
       "    <tr>\n",
       "      <th>1</th>\n",
       "      <td>0.387527</td>\n",
       "      <td>1.991946</td>\n",
       "    </tr>\n",
       "    <tr>\n",
       "      <th>2</th>\n",
       "      <td>-2.091485</td>\n",
       "      <td>2.037434</td>\n",
       "    </tr>\n",
       "    <tr>\n",
       "      <th>3</th>\n",
       "      <td>-2.379141</td>\n",
       "      <td>2.063802</td>\n",
       "    </tr>\n",
       "    <tr>\n",
       "      <th>4</th>\n",
       "      <td>2.597268</td>\n",
       "      <td>2.504202</td>\n",
       "    </tr>\n",
       "  </tbody>\n",
       "</table>\n",
       "</div>"
      ],
      "text/plain": [
       "          0         1\n",
       "0 -3.191462  1.987694\n",
       "1  0.387527  1.991946\n",
       "2 -2.091485  2.037434\n",
       "3 -2.379141  2.063802\n",
       "4  2.597268  2.504202"
      ]
     },
     "execution_count": 18,
     "metadata": {},
     "output_type": "execute_result"
    }
   ],
   "source": [
    "# Step 7: Output the Reduced Data\n",
    "print(f'Reduced Data Shape: {reduced_data.shape}')  # Display reduced data shape\n",
    "reduced_data[:5]  # Display the first few rows of reduced data"
   ]
  },
  {
   "cell_type": "markdown",
   "metadata": {},
   "source": [
    "### Step 8: Visualize Before and After PCA\n",
    "Now, let's plot the original data and the data after PCA to compare the reduction in dimensions visually."
   ]
  },
  {
   "cell_type": "code",
   "execution_count": 22,
   "metadata": {},
   "outputs": [
    {
     "ename": "KeyError",
     "evalue": "(slice(None, None, None), 0)",
     "output_type": "error",
     "traceback": [
      "\u001b[1;31m---------------------------------------------------------------------------\u001b[0m",
      "\u001b[1;31mKeyError\u001b[0m                                  Traceback (most recent call last)",
      "Cell \u001b[1;32mIn[22], line 13\u001b[0m\n\u001b[0;32m     10\u001b[0m \u001b[38;5;66;03m# Plot reduced data after PCA\u001b[39;00m\n\u001b[0;32m     12\u001b[0m plt\u001b[38;5;241m.\u001b[39msubplot(\u001b[38;5;241m1\u001b[39m, \u001b[38;5;241m2\u001b[39m, \u001b[38;5;241m2\u001b[39m)\n\u001b[1;32m---> 13\u001b[0m plt\u001b[38;5;241m.\u001b[39mscatter(\u001b[43mreduced_data\u001b[49m\u001b[43m[\u001b[49m\u001b[43m:\u001b[49m\u001b[43m,\u001b[49m\u001b[43m \u001b[49m\u001b[38;5;241;43m0\u001b[39;49m\u001b[43m]\u001b[49m, reduced_data[:, \u001b[38;5;241m1\u001b[39m])\n\u001b[0;32m     14\u001b[0m plt\u001b[38;5;241m.\u001b[39mtitle(\u001b[38;5;124m'\u001b[39m\u001b[38;5;124mData After PCA\u001b[39m\u001b[38;5;124m'\u001b[39m)\n\u001b[0;32m     15\u001b[0m plt\u001b[38;5;241m.\u001b[39mxlabel(\u001b[38;5;124m'\u001b[39m\u001b[38;5;124mPrincipal Component 1\u001b[39m\u001b[38;5;124m'\u001b[39m)\n",
      "File \u001b[1;32mc:\\Users\\Hp\\anaconda3\\Lib\\site-packages\\pandas\\core\\frame.py:3761\u001b[0m, in \u001b[0;36mDataFrame.__getitem__\u001b[1;34m(self, key)\u001b[0m\n\u001b[0;32m   3759\u001b[0m \u001b[38;5;28;01mif\u001b[39;00m \u001b[38;5;28mself\u001b[39m\u001b[38;5;241m.\u001b[39mcolumns\u001b[38;5;241m.\u001b[39mnlevels \u001b[38;5;241m>\u001b[39m \u001b[38;5;241m1\u001b[39m:\n\u001b[0;32m   3760\u001b[0m     \u001b[38;5;28;01mreturn\u001b[39;00m \u001b[38;5;28mself\u001b[39m\u001b[38;5;241m.\u001b[39m_getitem_multilevel(key)\n\u001b[1;32m-> 3761\u001b[0m indexer \u001b[38;5;241m=\u001b[39m \u001b[38;5;28;43mself\u001b[39;49m\u001b[38;5;241;43m.\u001b[39;49m\u001b[43mcolumns\u001b[49m\u001b[38;5;241;43m.\u001b[39;49m\u001b[43mget_loc\u001b[49m\u001b[43m(\u001b[49m\u001b[43mkey\u001b[49m\u001b[43m)\u001b[49m\n\u001b[0;32m   3762\u001b[0m \u001b[38;5;28;01mif\u001b[39;00m is_integer(indexer):\n\u001b[0;32m   3763\u001b[0m     indexer \u001b[38;5;241m=\u001b[39m [indexer]\n",
      "File \u001b[1;32mc:\\Users\\Hp\\anaconda3\\Lib\\site-packages\\pandas\\core\\indexes\\range.py:349\u001b[0m, in \u001b[0;36mRangeIndex.get_loc\u001b[1;34m(self, key)\u001b[0m\n\u001b[0;32m    347\u001b[0m         \u001b[38;5;28;01mraise\u001b[39;00m \u001b[38;5;167;01mKeyError\u001b[39;00m(key) \u001b[38;5;28;01mfrom\u001b[39;00m \u001b[38;5;21;01merr\u001b[39;00m\n\u001b[0;32m    348\u001b[0m \u001b[38;5;28;01mif\u001b[39;00m \u001b[38;5;28misinstance\u001b[39m(key, Hashable):\n\u001b[1;32m--> 349\u001b[0m     \u001b[38;5;28;01mraise\u001b[39;00m \u001b[38;5;167;01mKeyError\u001b[39;00m(key)\n\u001b[0;32m    350\u001b[0m \u001b[38;5;28mself\u001b[39m\u001b[38;5;241m.\u001b[39m_check_indexing_error(key)\n\u001b[0;32m    351\u001b[0m \u001b[38;5;28;01mraise\u001b[39;00m \u001b[38;5;167;01mKeyError\u001b[39;00m(key)\n",
      "\u001b[1;31mKeyError\u001b[0m: (slice(None, None, None), 0)"
     ]
    },
    {
     "data": {
      "image/png": "[encoded data removed]",
      "text/plain": [
       "<Figure size 800x600 with 2 Axes>"
      ]
     },
     "metadata": {},
     "output_type": "display_data"
    }
   ],
   "source": [
    "import matplotlib.pyplot as plt\n",
    "# Plot original data (first two features for simplicity)\n",
    "\n",
    "plt.figure(figsize=(8, 6))\n",
    "plt.subplot(1, 2, 1)\n",
    "plt.scatter(standardized_data.iloc[:, 0], standardized_data.iloc[:, 1])\n",
    "plt.title('Original Data (First Two Features)')\n",
    "plt.xlabel('Feature 1')\n",
    "plt.ylabel('Feature 2')\n",
    "# Plot reduced data after PCA\n",
    "\n",
    "plt.subplot(1, 2, 2)\n",
    "plt.scatter(reduced_data[:, 0], reduced_data[:, 1])\n",
    "plt.title('Data After PCA')\n",
    "plt.xlabel('Principal Component 1')\n",
    "plt.ylabel('Principal Component 2')\n",
    "\n",
    "plt.tight_layout()\n",
    "plt.show()"
   ]
  }
 ],
 "metadata": {
  "kernelspec": {
   "display_name": "base",
   "language": "python",
   "name": "python3"
  },
  "language_info": {
   "codemirror_mode": {
    "name": "ipython",
    "version": 3
   },
   "file_extension": ".py",
   "mimetype": "text/x-python",
   "name": "python",
   "nbconvert_exporter": "python",
   "pygments_lexer": "ipython3",
   "version": "3.11.5"
  }
 },
 "nbformat": 4,
 "nbformat_minor": 0
}
