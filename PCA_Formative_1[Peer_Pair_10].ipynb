{
 "cells": [
  {
   "cell_type": "markdown",
   "metadata": {},
   "source": [
    "# Formative Assignment: Advanced Linear Algebra (PCA)\n",
    "This notebook will guide you through the implementation of Principal Component Analysis (PCA). Fill in the missing code and provide the required answers in the appropriate sections. You will work with the `fuel_econ.csv` dataset.\n",
    "\n",
    "Make sure to display outputs for each code cell when submitting."
   ]
  },
  {
   "cell_type": "markdown",
   "metadata": {},
   "source": [
    "### Step 1: Load and Standardize the Data\n",
    "Before applying PCA, we must standardize the dataset. Standardization ensures that all features have a mean of 0 and a standard deviation of 1, which is essential for PCA.\n",
    "Fill in the code to standardize the dataset."
   ]
  },
  {
   "cell_type": "code",
   "execution_count": 64,
   "metadata": {},
   "outputs": [
    {
     "name": "stdout",
     "output_type": "stream",
     "text": [
      "            id      year  cylinders     displ       pv2       pv4      city  \\\n",
      "0    -1.737140 -1.475835   0.283102  0.650536  1.467096 -1.217378 -0.859960   \n",
      "1    -1.736684 -1.475835  -0.781816 -0.727998  1.864762 -1.217378  0.006427   \n",
      "2    -1.736227 -1.475835   0.283102  0.497365  1.864762 -1.217378 -0.694416   \n",
      "3    -1.735770 -1.475835   0.283102  0.497365  1.864762 -1.217378 -0.782800   \n",
      "4    -1.735313 -1.475835  -0.781816 -0.421657 -0.627278  0.734890  0.471083   \n",
      "...        ...       ...        ...       ...       ...       ...       ...   \n",
      "3924  1.770283  1.474784  -0.781816 -0.881169 -0.627278 -1.217378  5.346290   \n",
      "3925  1.777592  1.474784  -0.781816 -0.727998 -0.627278  0.960942  2.749115   \n",
      "3926  1.778049  1.474784  -0.781816 -0.727998 -0.627278  0.960942  2.909231   \n",
      "3927  1.778506  1.474784   0.283102  0.344195  1.997318 -1.217378 -0.417976   \n",
      "3928  1.778962  1.474784   0.283102  0.344195  1.997318 -1.217378 -0.606417   \n",
      "\n",
      "         UCity   highway  UHighway      comb       co2   feScore  ghgScore  \n",
      "0    -0.852430 -1.290630 -1.392475 -1.008323  1.022838 -0.950580 -0.945755  \n",
      "1    -0.117434  0.184947 -0.039200  0.071864 -0.298550  0.188608  0.194258  \n",
      "2    -0.753245 -0.592020 -0.851750 -0.686339  0.567934 -0.380986 -0.375749  \n",
      "3    -0.830286 -0.827384 -1.027588 -0.818651  0.752062 -0.380986 -0.375749  \n",
      "4     0.433147  0.967516  0.992531  0.648059 -0.720961  1.327796  1.334271  \n",
      "...        ...       ...       ...       ...       ...       ...       ...  \n",
      "3924  5.588320  4.006752  3.385131  4.938218 -3.233765  2.466984  2.474284  \n",
      "3925  3.065801  2.494025  2.324331  2.700327 -1.728249  1.897390  1.904278  \n",
      "3926  3.076807  2.788691  2.324331  2.866924 -1.782404  1.897390  1.904278  \n",
      "3927 -0.423068  0.054370  0.060412 -0.298083  0.113030 -0.380986 -0.375749  \n",
      "3928 -0.599162 -0.517474 -0.390174 -0.565906  0.437962 -0.950580 -0.945755  \n",
      "\n",
      "[3929 rows x 14 columns]\n",
      " City Mean: 0.0000000000\n"
     ]
    }
   ],
   "source": [
    "import pandas as pd \n",
    "import numpy as np\n",
    "\n",
    "data = pd.read_csv('fuel_econ.csv')\n",
    "\n",
    "numerical_data = data.select_dtypes(include=['float64', 'int64'])\n",
    "\n",
    "#calculating the mean and standard deviation\n",
    "mean = np.mean(numerical_data, axis=0) \n",
    "std_dev = np.std(numerical_data, axis=0)  \n",
    "\n",
    "# Do not use sklearn (Data - Data Mean)/ Data's Standard Deviation\n",
    "\n",
    "standardized_data = (numerical_data - mean) / std_dev \n",
    "print(standardized_data)\n",
    "\n",
    "#testing the code if they mean of a column is actually 0\n",
    "test = np.mean(standardized_data['city'])\n",
    "print(f' City Mean: {test:.10f}' )"
   ]
  },
  {
   "cell_type": "markdown",
   "metadata": {},
   "source": [
    "### Step 3: Calculate the Covariance Matrix\n",
    "The covariance matrix helps us understand how the features are related to each other. It is a key component in PCA."
   ]
  },
  {
   "cell_type": "code",
   "execution_count": 65,
   "metadata": {},
   "outputs": [
    {
     "name": "stdout",
     "output_type": "stream",
     "text": [
      "[[ 1.00025458  0.98591866 -0.06011148 -0.07468488 -0.00657025 -0.02195656\n",
      "   0.09182316  0.09124849  0.0906161   0.09538375  0.09382686 -0.09974229\n",
      "  -0.1279056  -0.12235207]\n",
      " [ 0.98591866  1.00025458 -0.05532701 -0.07044161  0.00623397 -0.03365174\n",
      "   0.06806739  0.06675938  0.07330836  0.07766039  0.07201181 -0.0811853\n",
      "  -0.1498676  -0.14517775]\n",
      " [-0.06011148 -0.05532701  1.00025458  0.93411019  0.24763384 -0.00426546\n",
      "  -0.69327904 -0.66619842 -0.76646982 -0.77169964 -0.73821112  0.84848979\n",
      "  -0.78405759 -0.78201448]\n",
      " [-0.07468488 -0.07044161  0.93411019  1.00025458  0.2594021   0.02207729\n",
      "  -0.71366074 -0.6863403  -0.78418374 -0.78865771 -0.75859024  0.85559254\n",
      "  -0.7936343  -0.79141752]\n",
      " [-0.00657025  0.00623397  0.24763384  0.2594021   1.00025458 -0.66581137\n",
      "  -0.27817962 -0.27261515 -0.29688365 -0.29858023 -0.29095711  0.28727323\n",
      "  -0.2961638  -0.29323103]\n",
      " [-0.02195656 -0.03365174 -0.00426546  0.02207729 -0.66581137  1.00025458\n",
      "   0.03519659  0.03787859  0.07497068  0.07746161  0.04734493 -0.05016567\n",
      "   0.06489226  0.06527952]\n",
      " [ 0.09182316  0.06806739 -0.69327904 -0.71366074 -0.27817962  0.03519659\n",
      "   1.00025458  0.99663082  0.9156677   0.90989004  0.98980432 -0.90453509\n",
      "   0.9059112   0.89902154]\n",
      " [ 0.09124849  0.06675938 -0.66619842 -0.6863403  -0.27261515  0.03787859\n",
      "   0.99663082  1.00025458  0.89978578  0.89804238  0.98135571 -0.8860481\n",
      "   0.89152389  0.88468357]\n",
      " [ 0.0906161   0.07330836 -0.76646982 -0.78418374 -0.29688365  0.07497068\n",
      "   0.9156677   0.89978578  1.00025458  0.99244327  0.9630022  -0.91668944\n",
      "   0.91434884  0.89781322]\n",
      " [ 0.09538375  0.07766039 -0.77169964 -0.78865771 -0.29858023  0.07746161\n",
      "   0.90989004  0.89804238  0.99244327  1.00025458  0.95682339 -0.91234956\n",
      "   0.91158665  0.89454192]\n",
      " [ 0.09382686  0.07201181 -0.73821112 -0.75859024 -0.29095711  0.04734493\n",
      "   0.98980432  0.98135571  0.9630022   0.95682339  1.00025458 -0.92963549\n",
      "   0.92909879  0.91904062]\n",
      " [-0.09974229 -0.0811853   0.84848979  0.85559254  0.28727323 -0.05016567\n",
      "  -0.90453509 -0.8860481  -0.91668944 -0.91234956 -0.92963549  1.00025458\n",
      "  -0.94086368 -0.94480617]\n",
      " [-0.1279056  -0.1498676  -0.78405759 -0.7936343  -0.2961638   0.06489226\n",
      "   0.9059112   0.89152389  0.91434884  0.91158665  0.92909879 -0.94086368\n",
      "   1.00025458  0.99448412]\n",
      " [-0.12235207 -0.14517775 -0.78201448 -0.79141752 -0.29323103  0.06527952\n",
      "   0.89902154  0.88468357  0.89781322  0.89454192  0.91904062 -0.94480617\n",
      "   0.99448412  1.00025458]]\n"
     ]
    }
   ],
   "source": [
    "# Step 3: Calculate the Covariance Matrix\n",
    "cov_matrix =  np.cov(standardized_data, rowvar=False)   # Calculate covariance matrix\n",
    "print(cov_matrix)"
   ]
  },
  {
   "cell_type": "markdown",
   "metadata": {},
   "source": [
    "### Step 4: Perform Eigendecomposition\n",
    "Eigendecomposition of the covariance matrix will give us the eigenvalues and eigenvectors, which are essential for PCA.\n",
    "Fill in the code to compute the eigenvalues and eigenvectors of the covariance matrix."
   ]
  },
  {
   "cell_type": "code",
   "execution_count": null,
   "metadata": {},
   "outputs": [],
   "source": [
    "# Step 4: Perform Eigendecomposition\n",
    "eigenvalues, eigenvectors = None  # Perform eigendecomposition\n",
    "eigenvalues, eigenvectors"
   ]
  },
  {
   "cell_type": "markdown",
   "metadata": {},
   "source": [
    "### Step 5: Sort Principal Components\n",
    "Sort the eigenvectors based on their corresponding eigenvalues in descending order. The higher the eigenvalue, the more important the eigenvector.\n",
    "Complete the code to sort the eigenvectors and print the sorted components."
   ]
  },
  {
   "cell_type": "code",
   "execution_count": null,
   "metadata": {},
   "outputs": [],
   "source": [
    "# Step 5: Sort Principal Components\n",
    "sorted_indices = None  # Sort eigenvalues in descending order\n",
    "sorted_eigenvectors = None  # Sort eigenvectors accordingly\n",
    "sorted_eigenvectors"
   ]
  },
  {
   "cell_type": "markdown",
   "metadata": {},
   "source": [
    "### Step 6: Project Data onto Principal Components\n",
    "Now that we’ve selected the number of components, we will project the original data onto the chosen principal components.\n",
    "Fill in the code to perform the projection."
   ]
  },
  {
   "cell_type": "code",
   "execution_count": null,
   "metadata": {},
   "outputs": [],
   "source": [
    "# Step 6: Project Data onto Principal Components\n",
    "num_components = None  # Decide on the number of principal components to keep\n",
    "reduced_data = None  # Project data onto the principal components\n",
    "reduced_data[:5]"
   ]
  },
  {
   "cell_type": "markdown",
   "metadata": {},
   "source": [
    "### Step 7: Output the Reduced Data\n",
    "Finally, display the reduced data obtained by projecting the original dataset onto the selected principal components."
   ]
  },
  {
   "cell_type": "code",
   "execution_count": null,
   "metadata": {},
   "outputs": [],
   "source": [
    "# Step 7: Output the Reduced Data\n",
    "print(f'Reduced Data Shape: {reduced_data.shape}')  # Display reduced data shape\n",
    "reduced_data[:5]  # Display the first few rows of reduced data"
   ]
  },
  {
   "cell_type": "markdown",
   "metadata": {},
   "source": [
    "### Step 8: Visualize Before and After PCA\n",
    "Now, let's plot the original data and the data after PCA to compare the reduction in dimensions visually."
   ]
  },
  {
   "cell_type": "code",
   "execution_count": null,
   "metadata": {},
   "outputs": [],
   "source": [
    "# Step 8: Visualize Before and After PCA\n",
    "\n",
    "\n",
    "# Plot original data (first two features for simplicity)\n",
    "\n",
    "\n",
    "# Plot reduced data after PCA\n"
   ]
  }
 ],
 "metadata": {
  "kernelspec": {
   "display_name": "base",
   "language": "python",
   "name": "python3"
  },
  "language_info": {
   "codemirror_mode": {
    "name": "ipython",
    "version": 3
   },
   "file_extension": ".py",
   "mimetype": "text/x-python",
   "name": "python",
   "nbconvert_exporter": "python",
   "pygments_lexer": "ipython3",
   "version": "3.11.5"
  }
 },
 "nbformat": 4,
 "nbformat_minor": 0
}
