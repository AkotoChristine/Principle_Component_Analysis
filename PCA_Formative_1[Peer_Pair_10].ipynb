{
 "cells": [
  {
   "cell_type": "markdown",
   "metadata": {},
   "source": [
    "# Formative Assignment: Advanced Linear Algebra (PCA)\n",
    "This notebook will guide you through the implementation of Principal Component Analysis (PCA). Fill in the missing code and provide the required answers in the appropriate sections. You will work with the `fuel_econ.csv` dataset.\n",
    "\n",
    "Make sure to display outputs for each code cell when submitting."
   ]
  },
  {
   "cell_type": "markdown",
   "metadata": {},
   "source": [
    "### Step 1: Load and Standardize the Data\n",
    "Before applying PCA, we must standardize the dataset. Standardization ensures that all features have a mean of 0 and a standard deviation of 1, which is essential for PCA.\n",
    "Fill in the code to standardize the dataset."
   ]
  },
  {
   "cell_type": "code",
   "execution_count": 24,
   "metadata": {},
   "outputs": [
    {
     "ename": "SyntaxError",
     "evalue": "invalid syntax (253740924.py, line 3)",
     "output_type": "error",
     "traceback": [
      "\u001b[1;36m  Cell \u001b[1;32mIn[24], line 3\u001b[1;36m\u001b[0m\n\u001b[1;33m    data = np.genfromtxt(\"fuel_econ.csv\", delimiter=\",\",  skip_header=, filling_values= 0)\u001b[0m\n\u001b[1;37m                                                                      ^\u001b[0m\n\u001b[1;31mSyntaxError\u001b[0m\u001b[1;31m:\u001b[0m invalid syntax\n"
     ]
    }
   ],
   "source": [
    "# Step 1: Load and Standardize the data (use of numpy only allowed)\n",
    "\n",
    "standardized_data = None  # Do not use sklearn (Data - Data Mean)/ Data's Standard Deviation\n",
    "standardized_data[:5]  # Display the first few rows of standardized data"
   ]
  },
  {
   "cell_type": "markdown",
   "metadata": {},
   "source": [
    "### Step 3: Calculate the Covariance Matrix\n",
    "The covariance matrix helps us understand how the features are related to each other. It is a key component in PCA."
   ]
  },
  {
   "cell_type": "code",
   "execution_count": 23,
   "metadata": {},
   "outputs": [
    {
     "name": "stdout",
     "output_type": "stream",
     "text": [
      "[[ 1.00025458         nan         nan  0.98591866         nan         nan\n",
      "          nan         nan -0.06011148 -0.07468488 -0.00657025 -0.02195656\n",
      "   0.09182316  0.09124849  0.0906161   0.09538375  0.09382686 -0.09974229\n",
      "  -0.1279056  -0.12235207]\n",
      " [        nan         nan         nan         nan         nan         nan\n",
      "          nan         nan         nan         nan         nan         nan\n",
      "          nan         nan         nan         nan         nan         nan\n",
      "          nan         nan]\n",
      " [        nan         nan         nan         nan         nan         nan\n",
      "          nan         nan         nan         nan         nan         nan\n",
      "          nan         nan         nan         nan         nan         nan\n",
      "          nan         nan]\n",
      " [ 0.98591866         nan         nan  1.00025458         nan         nan\n",
      "          nan         nan -0.05532701 -0.07044161  0.00623397 -0.03365174\n",
      "   0.06806739  0.06675938  0.07330836  0.07766039  0.07201181 -0.0811853\n",
      "  -0.1498676  -0.14517775]\n",
      " [        nan         nan         nan         nan         nan         nan\n",
      "          nan         nan         nan         nan         nan         nan\n",
      "          nan         nan         nan         nan         nan         nan\n",
      "          nan         nan]\n",
      " [        nan         nan         nan         nan         nan         nan\n",
      "          nan         nan         nan         nan         nan         nan\n",
      "          nan         nan         nan         nan         nan         nan\n",
      "          nan         nan]\n",
      " [        nan         nan         nan         nan         nan         nan\n",
      "          nan         nan         nan         nan         nan         nan\n",
      "          nan         nan         nan         nan         nan         nan\n",
      "          nan         nan]\n",
      " [        nan         nan         nan         nan         nan         nan\n",
      "          nan         nan         nan         nan         nan         nan\n",
      "          nan         nan         nan         nan         nan         nan\n",
      "          nan         nan]\n",
      " [-0.06011148         nan         nan -0.05532701         nan         nan\n",
      "          nan         nan  1.00025458  0.93411019  0.24763384 -0.00426546\n",
      "  -0.69327904 -0.66619842 -0.76646982 -0.77169964 -0.73821112  0.84848979\n",
      "  -0.78405759 -0.78201448]\n",
      " [-0.07468488         nan         nan -0.07044161         nan         nan\n",
      "          nan         nan  0.93411019  1.00025458  0.2594021   0.02207729\n",
      "  -0.71366074 -0.6863403  -0.78418374 -0.78865771 -0.75859024  0.85559254\n",
      "  -0.7936343  -0.79141752]\n",
      " [-0.00657025         nan         nan  0.00623397         nan         nan\n",
      "          nan         nan  0.24763384  0.2594021   1.00025458 -0.66581137\n",
      "  -0.27817962 -0.27261515 -0.29688365 -0.29858023 -0.29095711  0.28727323\n",
      "  -0.2961638  -0.29323103]\n",
      " [-0.02195656         nan         nan -0.03365174         nan         nan\n",
      "          nan         nan -0.00426546  0.02207729 -0.66581137  1.00025458\n",
      "   0.03519659  0.03787859  0.07497068  0.07746161  0.04734493 -0.05016567\n",
      "   0.06489226  0.06527952]\n",
      " [ 0.09182316         nan         nan  0.06806739         nan         nan\n",
      "          nan         nan -0.69327904 -0.71366074 -0.27817962  0.03519659\n",
      "   1.00025458  0.99663082  0.9156677   0.90989004  0.98980432 -0.90453509\n",
      "   0.9059112   0.89902154]\n",
      " [ 0.09124849         nan         nan  0.06675938         nan         nan\n",
      "          nan         nan -0.66619842 -0.6863403  -0.27261515  0.03787859\n",
      "   0.99663082  1.00025458  0.89978578  0.89804238  0.98135571 -0.8860481\n",
      "   0.89152389  0.88468357]\n",
      " [ 0.0906161          nan         nan  0.07330836         nan         nan\n",
      "          nan         nan -0.76646982 -0.78418374 -0.29688365  0.07497068\n",
      "   0.9156677   0.89978578  1.00025458  0.99244327  0.9630022  -0.91668944\n",
      "   0.91434884  0.89781322]\n",
      " [ 0.09538375         nan         nan  0.07766039         nan         nan\n",
      "          nan         nan -0.77169964 -0.78865771 -0.29858023  0.07746161\n",
      "   0.90989004  0.89804238  0.99244327  1.00025458  0.95682339 -0.91234956\n",
      "   0.91158665  0.89454192]\n",
      " [ 0.09382686         nan         nan  0.07201181         nan         nan\n",
      "          nan         nan -0.73821112 -0.75859024 -0.29095711  0.04734493\n",
      "   0.98980432  0.98135571  0.9630022   0.95682339  1.00025458 -0.92963549\n",
      "   0.92909879  0.91904062]\n",
      " [-0.09974229         nan         nan -0.0811853          nan         nan\n",
      "          nan         nan  0.84848979  0.85559254  0.28727323 -0.05016567\n",
      "  -0.90453509 -0.8860481  -0.91668944 -0.91234956 -0.92963549  1.00025458\n",
      "  -0.94086368 -0.94480617]\n",
      " [-0.1279056          nan         nan -0.1498676          nan         nan\n",
      "          nan         nan -0.78405759 -0.7936343  -0.2961638   0.06489226\n",
      "   0.9059112   0.89152389  0.91434884  0.91158665  0.92909879 -0.94086368\n",
      "   1.00025458  0.99448412]\n",
      " [-0.12235207         nan         nan -0.14517775         nan         nan\n",
      "          nan         nan -0.78201448 -0.79141752 -0.29323103  0.06527952\n",
      "   0.89902154  0.88468357  0.89781322  0.89454192  0.91904062 -0.94480617\n",
      "   0.99448412  1.00025458]]\n"
     ]
    }
   ],
   "source": [
    "# Step 3: Calculate the Covariance Matrix\n",
    "cov_matrix =  np.cov(standardized_data, rowvar=False)   # Calculate covariance matrix\n",
    "print(cov_matrix)"
   ]
  },
  {
   "cell_type": "markdown",
   "metadata": {},
   "source": [
    "### Step 4: Perform Eigendecomposition\n",
    "Eigendecomposition of the covariance matrix will give us the eigenvalues and eigenvectors, which are essential for PCA.\n",
    "Fill in the code to compute the eigenvalues and eigenvectors of the covariance matrix."
   ]
  },
  {
   "cell_type": "code",
   "execution_count": null,
   "metadata": {},
   "outputs": [],
   "source": [
    "# Step 4: Perform Eigendecomposition\n",
    "eigenvalues, eigenvectors = None  # Perform eigendecomposition\n",
    "eigenvalues, eigenvectors"
   ]
  },
  {
   "cell_type": "markdown",
   "metadata": {},
   "source": [
    "### Step 5: Sort Principal Components\n",
    "Sort the eigenvectors based on their corresponding eigenvalues in descending order. The higher the eigenvalue, the more important the eigenvector.\n",
    "Complete the code to sort the eigenvectors and print the sorted components."
   ]
  },
  {
   "cell_type": "code",
   "execution_count": null,
   "metadata": {},
   "outputs": [],
   "source": [
    "# Step 5: Sort Principal Components\n",
    "sorted_indices = None  # Sort eigenvalues in descending order\n",
    "sorted_eigenvectors = None  # Sort eigenvectors accordingly\n",
    "sorted_eigenvectors"
   ]
  },
  {
   "cell_type": "markdown",
   "metadata": {},
   "source": [
    "### Step 6: Project Data onto Principal Components\n",
    "Now that we’ve selected the number of components, we will project the original data onto the chosen principal components.\n",
    "Fill in the code to perform the projection."
   ]
  },
  {
   "cell_type": "code",
   "execution_count": null,
   "metadata": {},
   "outputs": [],
   "source": [
    "# Step 6: Project Data onto Principal Components\n",
    "num_components = None  # Decide on the number of principal components to keep\n",
    "reduced_data = None  # Project data onto the principal components\n",
    "reduced_data[:5]"
   ]
  },
  {
   "cell_type": "markdown",
   "metadata": {},
   "source": [
    "### Step 7: Output the Reduced Data\n",
    "Finally, display the reduced data obtained by projecting the original dataset onto the selected principal components."
   ]
  },
  {
   "cell_type": "code",
   "execution_count": null,
   "metadata": {},
   "outputs": [],
   "source": [
    "# Step 7: Output the Reduced Data\n",
    "print(f'Reduced Data Shape: {reduced_data.shape}')  # Display reduced data shape\n",
    "reduced_data[:5]  # Display the first few rows of reduced data"
   ]
  },
  {
   "cell_type": "markdown",
   "metadata": {},
   "source": [
    "### Step 8: Visualize Before and After PCA\n",
    "Now, let's plot the original data and the data after PCA to compare the reduction in dimensions visually."
   ]
  },
  {
   "cell_type": "code",
   "execution_count": null,
   "metadata": {},
   "outputs": [],
   "source": [
    "# Step 8: Visualize Before and After PCA\n",
    "\n",
    "\n",
    "# Plot original data (first two features for simplicity)\n",
    "\n",
    "\n",
    "# Plot reduced data after PCA\n"
   ]
  }
 ],
 "metadata": {
  "kernelspec": {
   "display_name": "base",
   "language": "python",
   "name": "python3"
  },
  "language_info": {
   "codemirror_mode": {
    "name": "ipython",
    "version": 3
   },
   "file_extension": ".py",
   "mimetype": "text/x-python",
   "name": "python",
   "nbconvert_exporter": "python",
   "pygments_lexer": "ipython3",
   "version": "3.11.5"
  }
 },
 "nbformat": 4,
 "nbformat_minor": 0
}
